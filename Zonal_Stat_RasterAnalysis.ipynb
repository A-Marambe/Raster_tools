{
  "nbformat": 4,
  "nbformat_minor": 0,
  "metadata": {
    "colab": {
      "name": "Zonal-Stat-RasterAnalysis.ipynb",
      "provenance": [],
      "collapsed_sections": [],
      "include_colab_link": true
    },
    "kernelspec": {
      "name": "python3",
      "display_name": "Python 3"
    }
  },
  "cells": [
    {
      "cell_type": "markdown",
      "metadata": {
        "id": "view-in-github",
        "colab_type": "text"
      },
      "source": [
        "<a href=\"https://colab.research.google.com/github/A-Marambe/Raster_tools/blob/master/Zonal_Stat_RasterAnalysis.ipynb\" target=\"_parent\"><img src=\"https://colab.research.google.com/assets/colab-badge.svg\" alt=\"Open In Colab\"/></a>"
      ]
    },
    {
      "cell_type": "markdown",
      "metadata": {
        "id": "7qA6Oi1giITG",
        "colab_type": "text"
      },
      "source": [
        "# **Zonal statistics Raster Analysis**\n",
        "\n",
        "Zonal stat extraction is an essential component of raster analysis to compose usable insights out of raster analysis. In ecology, or agriculture, efficient raster analysis procedures should be equipped with the bulk-batch processing capabilities to add more reasonable time components (generating time series).\n",
        " \n",
        "This notebook iterates over the daily evapotranspiration dataset and extracts daily zonal statistics values based on Landcover type. Land Cover types are corn, soybean, alfalfa, wheat, grass, deciduous.\n",
        "For the statistical data display, web compatible, modern data visualization techniques will be used.\n",
        "\n"
      ]
    },
    {
      "cell_type": "markdown",
      "metadata": {
        "id": "rdWWhsTS5R-T",
        "colab_type": "text"
      },
      "source": [
        "Install folowing packages , which are not default in google colab or miniconda\n",
        "\n",
        "*! pip install geopandas\n",
        "\n",
        "*! pip install rasterio\n"
      ]
    },
    {
      "cell_type": "markdown",
      "metadata": {
        "id": "zvVAhJOy5ONP",
        "colab_type": "text"
      },
      "source": [
        ""
      ]
    },
    {
      "cell_type": "code",
      "metadata": {
        "id": "1LJwMRRDh5sY",
        "colab_type": "code",
        "colab": {}
      },
      "source": [
        "# imports\n",
        "import os\n",
        "import glob\n",
        "\n",
        "# array and data handling imports\n",
        "import numpy as np\n",
        "import pandas as pd\n",
        "import geopandas as gpd\n",
        "\n",
        "# raster operations imports\n",
        "import rasterio as ras\n",
        "from rasterio.plot import show\n",
        "from osgeo import gdal,osr\n",
        "\n",
        "\n",
        "%matplotlib inline"
      ],
      "execution_count": 0,
      "outputs": []
    },
    {
      "cell_type": "markdown",
      "metadata": {
        "id": "LQDFrOMco-uX",
        "colab_type": "text"
      },
      "source": [
        "# ***Mounting Google drive for data I/o*** \n",
        "Note: this step is not an essential step. Run this step, If you are keen to work all cloud based data ingestion and analysis. Following snippet will pop up a message. Follow the message and authorize the access to your google drive.\n",
        "\n",
        "* Crete folders in google drive (or local computer) for input data storage and out put csv files.\n",
        "* Following snippet should be run one time and keep commented otherwise."
      ]
    },
    {
      "cell_type": "code",
      "metadata": {
        "id": "4qyceCf_jO_6",
        "colab_type": "code",
        "colab": {}
      },
      "source": [
        "## uncoment and run this snippet to mount google drive if data I/O with Gdrive\n",
        "#from google.colab import drive\n",
        "#drive.mount('/content/gdrive')"
      ],
      "execution_count": 0,
      "outputs": []
    },
    {
      "cell_type": "code",
      "metadata": {
        "id": "wa-Rf5RB3kCS",
        "colab_type": "code",
        "colab": {
          "base_uri": "https://localhost:8080/",
          "height": 34
        },
        "outputId": "d9b39b7f-709e-4ab2-ffbe-c07184dbc22f"
      },
      "source": [
        "def open_band(image_path):\n",
        "    image_file = ras.open(image_path)\n",
        "    image_data = image_file.read(1)\n",
        "    return image_data\n",
        "\n",
        "\n",
        "# change directory to input data folder\n",
        "os.chdir(\"/content/gdrive/My Drive/colab_data/ET_images\")\n",
        "os.getcwd()"
      ],
      "execution_count": 20,
      "outputs": [
        {
          "output_type": "execute_result",
          "data": {
            "text/plain": [
              "'/content/gdrive/My Drive/colab_data/ET_images'"
            ]
          },
          "metadata": {
            "tags": []
          },
          "execution_count": 20
        }
      ]
    },
    {
      "cell_type": "code",
      "metadata": {
        "id": "pjfQTh7hoMJT",
        "colab_type": "code",
        "colab": {}
      },
      "source": [
        ""
      ],
      "execution_count": 0,
      "outputs": []
    },
    {
      "cell_type": "code",
      "metadata": {
        "id": "n7xkS9sxsfjc",
        "colab_type": "code",
        "colab": {
          "base_uri": "https://localhost:8080/",
          "height": 51
        },
        "outputId": "82fa3f41-2ca8-4a55-c671-12137865881d"
      },
      "source": [
        "data = open_band(\"et234.img\")\n"
      ],
      "execution_count": 22,
      "outputs": [
        {
          "output_type": "stream",
          "text": [
            "/usr/local/lib/python3.6/dist-packages/rasterio/__init__.py:218: NotGeoreferencedWarning: Dataset has no geotransform set. The identity matrix may be returned.\n",
            "  s = DatasetReader(path, driver=driver, sharing=sharing, **kwargs)\n"
          ],
          "name": "stderr"
        }
      ]
    },
    {
      "cell_type": "code",
      "metadata": {
        "id": "KaVEkt-EshOh",
        "colab_type": "code",
        "colab": {}
      },
      "source": [
        "# source iamge opening\n",
        "ref_image = ras.open(\"F:\\\\Research_BGSU\\\\Augestsen\\\\final\\\\LAI\\\\LAI_augok\")\n",
        "show(ref_image, cmap='PiYG')\n",
        "\n",
        "ref_meta = ref_image.profile\n",
        "print(ref_meta)\n",
        "\n",
        "ref_transform = ref_meta[\"transform\"]\n",
        "#lai_crs = lai_meta[\"crs\"]\n",
        "ref_crs = ref_meta[\"crs\"]\n",
        "ref_transform, ref_crs\n",
        "\n",
        "\n",
        "\n",
        "\n"
      ],
      "execution_count": 0,
      "outputs": []
    }
  ]
}